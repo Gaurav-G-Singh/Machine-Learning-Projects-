{
 "cells": [
  {
   "cell_type": "markdown",
   "id": "c4646ff7",
   "metadata": {},
   "source": [
    "# Classification_Techniques_Decission_tree"
   ]
  },
  {
   "cell_type": "markdown",
   "id": "3a862b6d",
   "metadata": {},
   "source": [
    "Importing all tha necessary libraries"
   ]
  },
  {
   "cell_type": "code",
   "execution_count": 176,
   "id": "0246bcb3",
   "metadata": {},
   "outputs": [],
   "source": [
    "import numpy as np \n",
    "import pandas as pd\n",
    "from sklearn.model_selection import train_test_split\n",
    "from sklearn.tree import DecisionTreeClassifier\n",
    "from sklearn import metrics \n",
    "import matplotlib.pyplot as plt\n",
    "import seaborn as sns"
   ]
  },
  {
   "cell_type": "markdown",
   "id": "acd67719",
   "metadata": {},
   "source": [
    "loading csv dataset;"
   ]
  },
  {
   "cell_type": "code",
   "execution_count": 11,
   "id": "53fd97c0",
   "metadata": {},
   "outputs": [],
   "source": [
    "df=pd.read_csv('loan_train.csv')"
   ]
  },
  {
   "cell_type": "markdown",
   "id": "aaf3f1bb",
   "metadata": {},
   "source": [
    "Observing the data in dataset "
   ]
  },
  {
   "cell_type": "code",
   "execution_count": 12,
   "id": "cfcfb213",
   "metadata": {},
   "outputs": [
    {
     "data": {
      "text/html": [
       "<div>\n",
       "<style scoped>\n",
       "    .dataframe tbody tr th:only-of-type {\n",
       "        vertical-align: middle;\n",
       "    }\n",
       "\n",
       "    .dataframe tbody tr th {\n",
       "        vertical-align: top;\n",
       "    }\n",
       "\n",
       "    .dataframe thead th {\n",
       "        text-align: right;\n",
       "    }\n",
       "</style>\n",
       "<table border=\"1\" class=\"dataframe\">\n",
       "  <thead>\n",
       "    <tr style=\"text-align: right;\">\n",
       "      <th></th>\n",
       "      <th>Gender</th>\n",
       "      <th>Married</th>\n",
       "      <th>Dependents</th>\n",
       "      <th>Education</th>\n",
       "      <th>Self_Employed</th>\n",
       "      <th>Applicant_Income</th>\n",
       "      <th>Coapplicant_Income</th>\n",
       "      <th>Loan_Amount</th>\n",
       "      <th>Term</th>\n",
       "      <th>Credit_History</th>\n",
       "      <th>Area</th>\n",
       "      <th>Status</th>\n",
       "    </tr>\n",
       "  </thead>\n",
       "  <tbody>\n",
       "    <tr>\n",
       "      <th>0</th>\n",
       "      <td>Male</td>\n",
       "      <td>No</td>\n",
       "      <td>0</td>\n",
       "      <td>Graduate</td>\n",
       "      <td>No</td>\n",
       "      <td>584900</td>\n",
       "      <td>0.0</td>\n",
       "      <td>15000000</td>\n",
       "      <td>360.0</td>\n",
       "      <td>1.0</td>\n",
       "      <td>Urban</td>\n",
       "      <td>Y</td>\n",
       "    </tr>\n",
       "    <tr>\n",
       "      <th>1</th>\n",
       "      <td>Male</td>\n",
       "      <td>Yes</td>\n",
       "      <td>1</td>\n",
       "      <td>Graduate</td>\n",
       "      <td>No</td>\n",
       "      <td>458300</td>\n",
       "      <td>150800.0</td>\n",
       "      <td>12800000</td>\n",
       "      <td>360.0</td>\n",
       "      <td>1.0</td>\n",
       "      <td>Rural</td>\n",
       "      <td>N</td>\n",
       "    </tr>\n",
       "    <tr>\n",
       "      <th>2</th>\n",
       "      <td>Male</td>\n",
       "      <td>Yes</td>\n",
       "      <td>0</td>\n",
       "      <td>Graduate</td>\n",
       "      <td>Yes</td>\n",
       "      <td>300000</td>\n",
       "      <td>0.0</td>\n",
       "      <td>6600000</td>\n",
       "      <td>360.0</td>\n",
       "      <td>1.0</td>\n",
       "      <td>Urban</td>\n",
       "      <td>Y</td>\n",
       "    </tr>\n",
       "    <tr>\n",
       "      <th>3</th>\n",
       "      <td>Male</td>\n",
       "      <td>Yes</td>\n",
       "      <td>0</td>\n",
       "      <td>Not Graduate</td>\n",
       "      <td>No</td>\n",
       "      <td>258300</td>\n",
       "      <td>235800.0</td>\n",
       "      <td>12000000</td>\n",
       "      <td>360.0</td>\n",
       "      <td>1.0</td>\n",
       "      <td>Urban</td>\n",
       "      <td>Y</td>\n",
       "    </tr>\n",
       "    <tr>\n",
       "      <th>4</th>\n",
       "      <td>Male</td>\n",
       "      <td>No</td>\n",
       "      <td>0</td>\n",
       "      <td>Graduate</td>\n",
       "      <td>No</td>\n",
       "      <td>600000</td>\n",
       "      <td>0.0</td>\n",
       "      <td>14100000</td>\n",
       "      <td>360.0</td>\n",
       "      <td>1.0</td>\n",
       "      <td>Urban</td>\n",
       "      <td>Y</td>\n",
       "    </tr>\n",
       "    <tr>\n",
       "      <th>5</th>\n",
       "      <td>Male</td>\n",
       "      <td>Yes</td>\n",
       "      <td>2</td>\n",
       "      <td>Graduate</td>\n",
       "      <td>Yes</td>\n",
       "      <td>541700</td>\n",
       "      <td>419600.0</td>\n",
       "      <td>26700000</td>\n",
       "      <td>360.0</td>\n",
       "      <td>1.0</td>\n",
       "      <td>Urban</td>\n",
       "      <td>Y</td>\n",
       "    </tr>\n",
       "    <tr>\n",
       "      <th>6</th>\n",
       "      <td>Male</td>\n",
       "      <td>Yes</td>\n",
       "      <td>0</td>\n",
       "      <td>Not Graduate</td>\n",
       "      <td>No</td>\n",
       "      <td>233300</td>\n",
       "      <td>151600.0</td>\n",
       "      <td>9500000</td>\n",
       "      <td>360.0</td>\n",
       "      <td>1.0</td>\n",
       "      <td>Urban</td>\n",
       "      <td>Y</td>\n",
       "    </tr>\n",
       "    <tr>\n",
       "      <th>7</th>\n",
       "      <td>Male</td>\n",
       "      <td>Yes</td>\n",
       "      <td>3+</td>\n",
       "      <td>Graduate</td>\n",
       "      <td>No</td>\n",
       "      <td>303600</td>\n",
       "      <td>250400.0</td>\n",
       "      <td>15800000</td>\n",
       "      <td>360.0</td>\n",
       "      <td>0.0</td>\n",
       "      <td>Semiurban</td>\n",
       "      <td>N</td>\n",
       "    </tr>\n",
       "    <tr>\n",
       "      <th>8</th>\n",
       "      <td>Male</td>\n",
       "      <td>Yes</td>\n",
       "      <td>2</td>\n",
       "      <td>Graduate</td>\n",
       "      <td>No</td>\n",
       "      <td>400600</td>\n",
       "      <td>152600.0</td>\n",
       "      <td>16800000</td>\n",
       "      <td>360.0</td>\n",
       "      <td>1.0</td>\n",
       "      <td>Urban</td>\n",
       "      <td>Y</td>\n",
       "    </tr>\n",
       "    <tr>\n",
       "      <th>9</th>\n",
       "      <td>Male</td>\n",
       "      <td>Yes</td>\n",
       "      <td>1</td>\n",
       "      <td>Graduate</td>\n",
       "      <td>No</td>\n",
       "      <td>1284100</td>\n",
       "      <td>1096800.0</td>\n",
       "      <td>34900000</td>\n",
       "      <td>360.0</td>\n",
       "      <td>1.0</td>\n",
       "      <td>Semiurban</td>\n",
       "      <td>N</td>\n",
       "    </tr>\n",
       "  </tbody>\n",
       "</table>\n",
       "</div>"
      ],
      "text/plain": [
       "  Gender Married Dependents     Education Self_Employed  Applicant_Income  \\\n",
       "0   Male      No          0      Graduate            No            584900   \n",
       "1   Male     Yes          1      Graduate            No            458300   \n",
       "2   Male     Yes          0      Graduate           Yes            300000   \n",
       "3   Male     Yes          0  Not Graduate            No            258300   \n",
       "4   Male      No          0      Graduate            No            600000   \n",
       "5   Male     Yes          2      Graduate           Yes            541700   \n",
       "6   Male     Yes          0  Not Graduate            No            233300   \n",
       "7   Male     Yes         3+      Graduate            No            303600   \n",
       "8   Male     Yes          2      Graduate            No            400600   \n",
       "9   Male     Yes          1      Graduate            No           1284100   \n",
       "\n",
       "   Coapplicant_Income  Loan_Amount   Term  Credit_History       Area Status  \n",
       "0                 0.0     15000000  360.0             1.0      Urban      Y  \n",
       "1            150800.0     12800000  360.0             1.0      Rural      N  \n",
       "2                 0.0      6600000  360.0             1.0      Urban      Y  \n",
       "3            235800.0     12000000  360.0             1.0      Urban      Y  \n",
       "4                 0.0     14100000  360.0             1.0      Urban      Y  \n",
       "5            419600.0     26700000  360.0             1.0      Urban      Y  \n",
       "6            151600.0      9500000  360.0             1.0      Urban      Y  \n",
       "7            250400.0     15800000  360.0             0.0  Semiurban      N  \n",
       "8            152600.0     16800000  360.0             1.0      Urban      Y  \n",
       "9           1096800.0     34900000  360.0             1.0  Semiurban      N  "
      ]
     },
     "execution_count": 12,
     "metadata": {},
     "output_type": "execute_result"
    }
   ],
   "source": [
    "df.head(10)"
   ]
  },
  {
   "cell_type": "code",
   "execution_count": 13,
   "id": "499f969e",
   "metadata": {},
   "outputs": [
    {
     "name": "stdout",
     "output_type": "stream",
     "text": [
      "<class 'pandas.core.frame.DataFrame'>\n",
      "RangeIndex: 614 entries, 0 to 613\n",
      "Data columns (total 12 columns):\n",
      " #   Column              Non-Null Count  Dtype  \n",
      "---  ------              --------------  -----  \n",
      " 0   Gender              601 non-null    object \n",
      " 1   Married             611 non-null    object \n",
      " 2   Dependents          599 non-null    object \n",
      " 3   Education           614 non-null    object \n",
      " 4   Self_Employed       582 non-null    object \n",
      " 5   Applicant_Income    614 non-null    int64  \n",
      " 6   Coapplicant_Income  614 non-null    float64\n",
      " 7   Loan_Amount         614 non-null    int64  \n",
      " 8   Term                600 non-null    float64\n",
      " 9   Credit_History      564 non-null    float64\n",
      " 10  Area                614 non-null    object \n",
      " 11  Status              614 non-null    object \n",
      "dtypes: float64(3), int64(2), object(7)\n",
      "memory usage: 57.7+ KB\n"
     ]
    }
   ],
   "source": [
    "df.info()"
   ]
  },
  {
   "cell_type": "code",
   "execution_count": 14,
   "id": "7ee53920",
   "metadata": {},
   "outputs": [
    {
     "data": {
      "text/plain": [
       "Gender                13\n",
       "Married                3\n",
       "Dependents            15\n",
       "Education              0\n",
       "Self_Employed         32\n",
       "Applicant_Income       0\n",
       "Coapplicant_Income     0\n",
       "Loan_Amount            0\n",
       "Term                  14\n",
       "Credit_History        50\n",
       "Area                   0\n",
       "Status                 0\n",
       "dtype: int64"
      ]
     },
     "execution_count": 14,
     "metadata": {},
     "output_type": "execute_result"
    }
   ],
   "source": [
    "df.isnull().sum()"
   ]
  },
  {
   "cell_type": "markdown",
   "id": "59cb4370",
   "metadata": {},
   "source": [
    "We have to change the '3+' values by '3'"
   ]
  },
  {
   "cell_type": "code",
   "execution_count": 18,
   "id": "8503d7ea",
   "metadata": {},
   "outputs": [],
   "source": [
    "df['Dependents']=df['Dependents'].replace('3+', '3')"
   ]
  },
  {
   "cell_type": "code",
   "execution_count": 19,
   "id": "c6e06877",
   "metadata": {},
   "outputs": [
    {
     "data": {
      "text/html": [
       "<div>\n",
       "<style scoped>\n",
       "    .dataframe tbody tr th:only-of-type {\n",
       "        vertical-align: middle;\n",
       "    }\n",
       "\n",
       "    .dataframe tbody tr th {\n",
       "        vertical-align: top;\n",
       "    }\n",
       "\n",
       "    .dataframe thead th {\n",
       "        text-align: right;\n",
       "    }\n",
       "</style>\n",
       "<table border=\"1\" class=\"dataframe\">\n",
       "  <thead>\n",
       "    <tr style=\"text-align: right;\">\n",
       "      <th></th>\n",
       "      <th>Gender</th>\n",
       "      <th>Married</th>\n",
       "      <th>Dependents</th>\n",
       "      <th>Education</th>\n",
       "      <th>Self_Employed</th>\n",
       "      <th>Applicant_Income</th>\n",
       "      <th>Coapplicant_Income</th>\n",
       "      <th>Loan_Amount</th>\n",
       "      <th>Term</th>\n",
       "      <th>Credit_History</th>\n",
       "      <th>Area</th>\n",
       "      <th>Status</th>\n",
       "    </tr>\n",
       "  </thead>\n",
       "  <tbody>\n",
       "    <tr>\n",
       "      <th>0</th>\n",
       "      <td>Male</td>\n",
       "      <td>No</td>\n",
       "      <td>0</td>\n",
       "      <td>Graduate</td>\n",
       "      <td>No</td>\n",
       "      <td>584900</td>\n",
       "      <td>0.0</td>\n",
       "      <td>15000000</td>\n",
       "      <td>360.0</td>\n",
       "      <td>1.0</td>\n",
       "      <td>Urban</td>\n",
       "      <td>Y</td>\n",
       "    </tr>\n",
       "    <tr>\n",
       "      <th>1</th>\n",
       "      <td>Male</td>\n",
       "      <td>Yes</td>\n",
       "      <td>1</td>\n",
       "      <td>Graduate</td>\n",
       "      <td>No</td>\n",
       "      <td>458300</td>\n",
       "      <td>150800.0</td>\n",
       "      <td>12800000</td>\n",
       "      <td>360.0</td>\n",
       "      <td>1.0</td>\n",
       "      <td>Rural</td>\n",
       "      <td>N</td>\n",
       "    </tr>\n",
       "    <tr>\n",
       "      <th>2</th>\n",
       "      <td>Male</td>\n",
       "      <td>Yes</td>\n",
       "      <td>0</td>\n",
       "      <td>Graduate</td>\n",
       "      <td>Yes</td>\n",
       "      <td>300000</td>\n",
       "      <td>0.0</td>\n",
       "      <td>6600000</td>\n",
       "      <td>360.0</td>\n",
       "      <td>1.0</td>\n",
       "      <td>Urban</td>\n",
       "      <td>Y</td>\n",
       "    </tr>\n",
       "    <tr>\n",
       "      <th>3</th>\n",
       "      <td>Male</td>\n",
       "      <td>Yes</td>\n",
       "      <td>0</td>\n",
       "      <td>Not Graduate</td>\n",
       "      <td>No</td>\n",
       "      <td>258300</td>\n",
       "      <td>235800.0</td>\n",
       "      <td>12000000</td>\n",
       "      <td>360.0</td>\n",
       "      <td>1.0</td>\n",
       "      <td>Urban</td>\n",
       "      <td>Y</td>\n",
       "    </tr>\n",
       "    <tr>\n",
       "      <th>4</th>\n",
       "      <td>Male</td>\n",
       "      <td>No</td>\n",
       "      <td>0</td>\n",
       "      <td>Graduate</td>\n",
       "      <td>No</td>\n",
       "      <td>600000</td>\n",
       "      <td>0.0</td>\n",
       "      <td>14100000</td>\n",
       "      <td>360.0</td>\n",
       "      <td>1.0</td>\n",
       "      <td>Urban</td>\n",
       "      <td>Y</td>\n",
       "    </tr>\n",
       "    <tr>\n",
       "      <th>5</th>\n",
       "      <td>Male</td>\n",
       "      <td>Yes</td>\n",
       "      <td>2</td>\n",
       "      <td>Graduate</td>\n",
       "      <td>Yes</td>\n",
       "      <td>541700</td>\n",
       "      <td>419600.0</td>\n",
       "      <td>26700000</td>\n",
       "      <td>360.0</td>\n",
       "      <td>1.0</td>\n",
       "      <td>Urban</td>\n",
       "      <td>Y</td>\n",
       "    </tr>\n",
       "    <tr>\n",
       "      <th>6</th>\n",
       "      <td>Male</td>\n",
       "      <td>Yes</td>\n",
       "      <td>0</td>\n",
       "      <td>Not Graduate</td>\n",
       "      <td>No</td>\n",
       "      <td>233300</td>\n",
       "      <td>151600.0</td>\n",
       "      <td>9500000</td>\n",
       "      <td>360.0</td>\n",
       "      <td>1.0</td>\n",
       "      <td>Urban</td>\n",
       "      <td>Y</td>\n",
       "    </tr>\n",
       "    <tr>\n",
       "      <th>7</th>\n",
       "      <td>Male</td>\n",
       "      <td>Yes</td>\n",
       "      <td>3</td>\n",
       "      <td>Graduate</td>\n",
       "      <td>No</td>\n",
       "      <td>303600</td>\n",
       "      <td>250400.0</td>\n",
       "      <td>15800000</td>\n",
       "      <td>360.0</td>\n",
       "      <td>0.0</td>\n",
       "      <td>Semiurban</td>\n",
       "      <td>N</td>\n",
       "    </tr>\n",
       "    <tr>\n",
       "      <th>8</th>\n",
       "      <td>Male</td>\n",
       "      <td>Yes</td>\n",
       "      <td>2</td>\n",
       "      <td>Graduate</td>\n",
       "      <td>No</td>\n",
       "      <td>400600</td>\n",
       "      <td>152600.0</td>\n",
       "      <td>16800000</td>\n",
       "      <td>360.0</td>\n",
       "      <td>1.0</td>\n",
       "      <td>Urban</td>\n",
       "      <td>Y</td>\n",
       "    </tr>\n",
       "    <tr>\n",
       "      <th>9</th>\n",
       "      <td>Male</td>\n",
       "      <td>Yes</td>\n",
       "      <td>1</td>\n",
       "      <td>Graduate</td>\n",
       "      <td>No</td>\n",
       "      <td>1284100</td>\n",
       "      <td>1096800.0</td>\n",
       "      <td>34900000</td>\n",
       "      <td>360.0</td>\n",
       "      <td>1.0</td>\n",
       "      <td>Semiurban</td>\n",
       "      <td>N</td>\n",
       "    </tr>\n",
       "  </tbody>\n",
       "</table>\n",
       "</div>"
      ],
      "text/plain": [
       "  Gender Married Dependents     Education Self_Employed  Applicant_Income  \\\n",
       "0   Male      No          0      Graduate            No            584900   \n",
       "1   Male     Yes          1      Graduate            No            458300   \n",
       "2   Male     Yes          0      Graduate           Yes            300000   \n",
       "3   Male     Yes          0  Not Graduate            No            258300   \n",
       "4   Male      No          0      Graduate            No            600000   \n",
       "5   Male     Yes          2      Graduate           Yes            541700   \n",
       "6   Male     Yes          0  Not Graduate            No            233300   \n",
       "7   Male     Yes          3      Graduate            No            303600   \n",
       "8   Male     Yes          2      Graduate            No            400600   \n",
       "9   Male     Yes          1      Graduate            No           1284100   \n",
       "\n",
       "   Coapplicant_Income  Loan_Amount   Term  Credit_History       Area Status  \n",
       "0                 0.0     15000000  360.0             1.0      Urban      Y  \n",
       "1            150800.0     12800000  360.0             1.0      Rural      N  \n",
       "2                 0.0      6600000  360.0             1.0      Urban      Y  \n",
       "3            235800.0     12000000  360.0             1.0      Urban      Y  \n",
       "4                 0.0     14100000  360.0             1.0      Urban      Y  \n",
       "5            419600.0     26700000  360.0             1.0      Urban      Y  \n",
       "6            151600.0      9500000  360.0             1.0      Urban      Y  \n",
       "7            250400.0     15800000  360.0             0.0  Semiurban      N  \n",
       "8            152600.0     16800000  360.0             1.0      Urban      Y  \n",
       "9           1096800.0     34900000  360.0             1.0  Semiurban      N  "
      ]
     },
     "execution_count": 19,
     "metadata": {},
     "output_type": "execute_result"
    }
   ],
   "source": [
    "df.head(10)"
   ]
  },
  {
   "cell_type": "markdown",
   "id": "47ac0f2d",
   "metadata": {},
   "source": [
    "Change the Null values by column mean values  "
   ]
  },
  {
   "cell_type": "code",
   "execution_count": 22,
   "id": "f374d34e",
   "metadata": {},
   "outputs": [
    {
     "name": "stderr",
     "output_type": "stream",
     "text": [
      "C:\\Users\\gaura\\AppData\\Local\\Temp\\ipykernel_5076\\2963836096.py:1: FutureWarning: Dropping of nuisance columns in DataFrame reductions (with 'numeric_only=None') is deprecated; in a future version this will raise TypeError.  Select only valid columns before calling the reduction.\n",
      "  df.fillna(df.mean(axis=0), inplace=True)\n"
     ]
    }
   ],
   "source": [
    "df.fillna(df.mean(axis=0), inplace=True)"
   ]
  },
  {
   "cell_type": "code",
   "execution_count": 25,
   "id": "8aab36a7",
   "metadata": {},
   "outputs": [
    {
     "data": {
      "text/plain": [
       "Gender                13\n",
       "Married                3\n",
       "Dependents            15\n",
       "Education              0\n",
       "Self_Employed         32\n",
       "Applicant_Income       0\n",
       "Coapplicant_Income     0\n",
       "Loan_Amount            0\n",
       "Term                   0\n",
       "Credit_History         0\n",
       "Area                   0\n",
       "Status                 0\n",
       "dtype: int64"
      ]
     },
     "execution_count": 25,
     "metadata": {},
     "output_type": "execute_result"
    }
   ],
   "source": [
    "df.isnull().sum()"
   ]
  },
  {
   "cell_type": "markdown",
   "id": "5cb07bd9",
   "metadata": {},
   "source": [
    "Remove all the remaining null values"
   ]
  },
  {
   "cell_type": "code",
   "execution_count": 27,
   "id": "35592db9",
   "metadata": {},
   "outputs": [],
   "source": [
    "df=df.dropna()"
   ]
  },
  {
   "cell_type": "markdown",
   "id": "bbfa9584",
   "metadata": {},
   "source": [
    "Change tha Column datatype "
   ]
  },
  {
   "cell_type": "code",
   "execution_count": 28,
   "id": "b8f2258f",
   "metadata": {},
   "outputs": [],
   "source": [
    "df['Dependents']=df['Dependents'].astype('int')"
   ]
  },
  {
   "cell_type": "code",
   "execution_count": 30,
   "id": "2ebcac05",
   "metadata": {},
   "outputs": [
    {
     "name": "stdout",
     "output_type": "stream",
     "text": [
      "<class 'pandas.core.frame.DataFrame'>\n",
      "Int64Index: 554 entries, 0 to 613\n",
      "Data columns (total 12 columns):\n",
      " #   Column              Non-Null Count  Dtype  \n",
      "---  ------              --------------  -----  \n",
      " 0   Gender              554 non-null    object \n",
      " 1   Married             554 non-null    object \n",
      " 2   Dependents          554 non-null    int32  \n",
      " 3   Education           554 non-null    object \n",
      " 4   Self_Employed       554 non-null    object \n",
      " 5   Applicant_Income    554 non-null    int64  \n",
      " 6   Coapplicant_Income  554 non-null    float64\n",
      " 7   Loan_Amount         554 non-null    int64  \n",
      " 8   Term                554 non-null    float64\n",
      " 9   Credit_History      554 non-null    float64\n",
      " 10  Area                554 non-null    object \n",
      " 11  Status              554 non-null    object \n",
      "dtypes: float64(3), int32(1), int64(2), object(6)\n",
      "memory usage: 54.1+ KB\n"
     ]
    }
   ],
   "source": [
    "df.info()"
   ]
  },
  {
   "cell_type": "markdown",
   "id": "87984cb5",
   "metadata": {},
   "source": [
    "Change tha Column datatype "
   ]
  },
  {
   "cell_type": "code",
   "execution_count": 32,
   "id": "e5adade8",
   "metadata": {},
   "outputs": [],
   "source": [
    "column=['Applicant_Income','Coapplicant_Income','Loan_Amount','Term','Credit_History']\n",
    "for i in column:\n",
    "    df[i]=df[i].astype('int')"
   ]
  },
  {
   "cell_type": "code",
   "execution_count": 33,
   "id": "5b6c7684",
   "metadata": {},
   "outputs": [
    {
     "name": "stdout",
     "output_type": "stream",
     "text": [
      "<class 'pandas.core.frame.DataFrame'>\n",
      "Int64Index: 554 entries, 0 to 613\n",
      "Data columns (total 12 columns):\n",
      " #   Column              Non-Null Count  Dtype \n",
      "---  ------              --------------  ----- \n",
      " 0   Gender              554 non-null    object\n",
      " 1   Married             554 non-null    object\n",
      " 2   Dependents          554 non-null    int32 \n",
      " 3   Education           554 non-null    object\n",
      " 4   Self_Employed       554 non-null    object\n",
      " 5   Applicant_Income    554 non-null    int32 \n",
      " 6   Coapplicant_Income  554 non-null    int32 \n",
      " 7   Loan_Amount         554 non-null    int32 \n",
      " 8   Term                554 non-null    int32 \n",
      " 9   Credit_History      554 non-null    int32 \n",
      " 10  Area                554 non-null    object\n",
      " 11  Status              554 non-null    object\n",
      "dtypes: int32(6), object(6)\n",
      "memory usage: 43.3+ KB\n"
     ]
    }
   ],
   "source": [
    "df.info()"
   ]
  },
  {
   "cell_type": "markdown",
   "id": "e71347b9",
   "metadata": {},
   "source": [
    "Now make X,Y dataset for training and testing"
   ]
  },
  {
   "cell_type": "code",
   "execution_count": 34,
   "id": "4227aa51",
   "metadata": {},
   "outputs": [],
   "source": [
    "x=df.drop('Credit_History',axis=1)\n",
    "y=df.iloc[:,9]"
   ]
  },
  {
   "cell_type": "markdown",
   "id": "58b5abca",
   "metadata": {},
   "source": [
    "Make the dummies for categorical column"
   ]
  },
  {
   "cell_type": "code",
   "execution_count": 35,
   "id": "7ba7d305",
   "metadata": {},
   "outputs": [],
   "source": [
    "cols=['Gender','Married','Education','Self_Employed','Area','Status']\n",
    "dummies =[]\n",
    "for col in cols:\n",
    "    dummies.append(pd.get_dummies(x[col]))\n",
    "tc_du=pd.concat(dummies,axis=1)\n",
    "x=pd.concat((x,tc_du),axis=1)\n",
    "x=x.drop(['Gender','Married','Education','Self_Employed','Area','Status'],axis=1)"
   ]
  },
  {
   "cell_type": "code",
   "execution_count": 36,
   "id": "d83f1e28",
   "metadata": {},
   "outputs": [
    {
     "data": {
      "text/html": [
       "<div>\n",
       "<style scoped>\n",
       "    .dataframe tbody tr th:only-of-type {\n",
       "        vertical-align: middle;\n",
       "    }\n",
       "\n",
       "    .dataframe tbody tr th {\n",
       "        vertical-align: top;\n",
       "    }\n",
       "\n",
       "    .dataframe thead th {\n",
       "        text-align: right;\n",
       "    }\n",
       "</style>\n",
       "<table border=\"1\" class=\"dataframe\">\n",
       "  <thead>\n",
       "    <tr style=\"text-align: right;\">\n",
       "      <th></th>\n",
       "      <th>Dependents</th>\n",
       "      <th>Applicant_Income</th>\n",
       "      <th>Coapplicant_Income</th>\n",
       "      <th>Loan_Amount</th>\n",
       "      <th>Term</th>\n",
       "      <th>Female</th>\n",
       "      <th>Male</th>\n",
       "      <th>No</th>\n",
       "      <th>Yes</th>\n",
       "      <th>Graduate</th>\n",
       "      <th>Not Graduate</th>\n",
       "      <th>No</th>\n",
       "      <th>Yes</th>\n",
       "      <th>Rural</th>\n",
       "      <th>Semiurban</th>\n",
       "      <th>Urban</th>\n",
       "      <th>N</th>\n",
       "      <th>Y</th>\n",
       "    </tr>\n",
       "  </thead>\n",
       "  <tbody>\n",
       "    <tr>\n",
       "      <th>0</th>\n",
       "      <td>0</td>\n",
       "      <td>584900</td>\n",
       "      <td>0</td>\n",
       "      <td>15000000</td>\n",
       "      <td>360</td>\n",
       "      <td>0</td>\n",
       "      <td>1</td>\n",
       "      <td>1</td>\n",
       "      <td>0</td>\n",
       "      <td>1</td>\n",
       "      <td>0</td>\n",
       "      <td>1</td>\n",
       "      <td>0</td>\n",
       "      <td>0</td>\n",
       "      <td>0</td>\n",
       "      <td>1</td>\n",
       "      <td>0</td>\n",
       "      <td>1</td>\n",
       "    </tr>\n",
       "    <tr>\n",
       "      <th>1</th>\n",
       "      <td>1</td>\n",
       "      <td>458300</td>\n",
       "      <td>150800</td>\n",
       "      <td>12800000</td>\n",
       "      <td>360</td>\n",
       "      <td>0</td>\n",
       "      <td>1</td>\n",
       "      <td>0</td>\n",
       "      <td>1</td>\n",
       "      <td>1</td>\n",
       "      <td>0</td>\n",
       "      <td>1</td>\n",
       "      <td>0</td>\n",
       "      <td>1</td>\n",
       "      <td>0</td>\n",
       "      <td>0</td>\n",
       "      <td>1</td>\n",
       "      <td>0</td>\n",
       "    </tr>\n",
       "    <tr>\n",
       "      <th>2</th>\n",
       "      <td>0</td>\n",
       "      <td>300000</td>\n",
       "      <td>0</td>\n",
       "      <td>6600000</td>\n",
       "      <td>360</td>\n",
       "      <td>0</td>\n",
       "      <td>1</td>\n",
       "      <td>0</td>\n",
       "      <td>1</td>\n",
       "      <td>1</td>\n",
       "      <td>0</td>\n",
       "      <td>0</td>\n",
       "      <td>1</td>\n",
       "      <td>0</td>\n",
       "      <td>0</td>\n",
       "      <td>1</td>\n",
       "      <td>0</td>\n",
       "      <td>1</td>\n",
       "    </tr>\n",
       "    <tr>\n",
       "      <th>3</th>\n",
       "      <td>0</td>\n",
       "      <td>258300</td>\n",
       "      <td>235800</td>\n",
       "      <td>12000000</td>\n",
       "      <td>360</td>\n",
       "      <td>0</td>\n",
       "      <td>1</td>\n",
       "      <td>0</td>\n",
       "      <td>1</td>\n",
       "      <td>0</td>\n",
       "      <td>1</td>\n",
       "      <td>1</td>\n",
       "      <td>0</td>\n",
       "      <td>0</td>\n",
       "      <td>0</td>\n",
       "      <td>1</td>\n",
       "      <td>0</td>\n",
       "      <td>1</td>\n",
       "    </tr>\n",
       "    <tr>\n",
       "      <th>4</th>\n",
       "      <td>0</td>\n",
       "      <td>600000</td>\n",
       "      <td>0</td>\n",
       "      <td>14100000</td>\n",
       "      <td>360</td>\n",
       "      <td>0</td>\n",
       "      <td>1</td>\n",
       "      <td>1</td>\n",
       "      <td>0</td>\n",
       "      <td>1</td>\n",
       "      <td>0</td>\n",
       "      <td>1</td>\n",
       "      <td>0</td>\n",
       "      <td>0</td>\n",
       "      <td>0</td>\n",
       "      <td>1</td>\n",
       "      <td>0</td>\n",
       "      <td>1</td>\n",
       "    </tr>\n",
       "  </tbody>\n",
       "</table>\n",
       "</div>"
      ],
      "text/plain": [
       "   Dependents  Applicant_Income  Coapplicant_Income  Loan_Amount  Term  \\\n",
       "0           0            584900                   0     15000000   360   \n",
       "1           1            458300              150800     12800000   360   \n",
       "2           0            300000                   0      6600000   360   \n",
       "3           0            258300              235800     12000000   360   \n",
       "4           0            600000                   0     14100000   360   \n",
       "\n",
       "   Female  Male  No  Yes  Graduate  Not Graduate  No  Yes  Rural  Semiurban  \\\n",
       "0       0     1   1    0         1             0   1    0      0          0   \n",
       "1       0     1   0    1         1             0   1    0      1          0   \n",
       "2       0     1   0    1         1             0   0    1      0          0   \n",
       "3       0     1   0    1         0             1   1    0      0          0   \n",
       "4       0     1   1    0         1             0   1    0      0          0   \n",
       "\n",
       "   Urban  N  Y  \n",
       "0      1  0  1  \n",
       "1      0  1  0  \n",
       "2      1  0  1  \n",
       "3      1  0  1  \n",
       "4      1  0  1  "
      ]
     },
     "execution_count": 36,
     "metadata": {},
     "output_type": "execute_result"
    }
   ],
   "source": [
    "x.head()"
   ]
  },
  {
   "cell_type": "code",
   "execution_count": 37,
   "id": "7f153dff",
   "metadata": {},
   "outputs": [
    {
     "data": {
      "text/plain": [
       "0    1\n",
       "1    1\n",
       "2    1\n",
       "3    1\n",
       "4    1\n",
       "Name: Credit_History, dtype: int32"
      ]
     },
     "execution_count": 37,
     "metadata": {},
     "output_type": "execute_result"
    }
   ],
   "source": [
    "y.head()"
   ]
  },
  {
   "cell_type": "markdown",
   "id": "6fac7231",
   "metadata": {},
   "source": [
    "Split the x and y dataset in to training and testing sets"
   ]
  },
  {
   "cell_type": "code",
   "execution_count": 164,
   "id": "abc468dc",
   "metadata": {},
   "outputs": [],
   "source": [
    "x_train,x_test,y_train,y_test=train_test_split(x,y,test_size=0.3,random_state=10)"
   ]
  },
  {
   "cell_type": "markdown",
   "id": "4efe2068",
   "metadata": {},
   "source": [
    "Load the Decisionclassifier and fit the x_train,y_train in it"
   ]
  },
  {
   "cell_type": "code",
   "execution_count": 165,
   "id": "230c1b26",
   "metadata": {},
   "outputs": [],
   "source": [
    "clf=DecisionTreeClassifier(criterion='entropy',max_depth=3)\n",
    "clf=clf.fit(x_train,y_train)"
   ]
  },
  {
   "cell_type": "code",
   "execution_count": 166,
   "id": "44e1c5f3",
   "metadata": {},
   "outputs": [],
   "source": [
    "y_prd=clf.predict(x_test)"
   ]
  },
  {
   "cell_type": "markdown",
   "id": "ca9d61c5",
   "metadata": {},
   "source": [
    "Make the prediction by the given user values"
   ]
  },
  {
   "cell_type": "code",
   "execution_count": 167,
   "id": "e88730fc",
   "metadata": {},
   "outputs": [
    {
     "name": "stderr",
     "output_type": "stream",
     "text": [
      "C:\\Users\\gaura\\anaconda3\\lib\\site-packages\\sklearn\\base.py:450: UserWarning: X does not have valid feature names, but DecisionTreeClassifier was fitted with feature names\n",
      "  warnings.warn(\n"
     ]
    }
   ],
   "source": [
    "y_prd2=clf.predict([[1,500000,0,10000000,360,0,1,1,0,1,0,0,1,1,0,0,1,0]])"
   ]
  },
  {
   "cell_type": "code",
   "execution_count": 178,
   "id": "9f87b12d",
   "metadata": {},
   "outputs": [
    {
     "data": {
      "text/plain": [
       "array([1])"
      ]
     },
     "execution_count": 178,
     "metadata": {},
     "output_type": "execute_result"
    }
   ],
   "source": [
    "y_prd2"
   ]
  },
  {
   "cell_type": "markdown",
   "id": "ff90e3b2",
   "metadata": {},
   "source": [
    "See the Acciracy_score "
   ]
  },
  {
   "cell_type": "code",
   "execution_count": 169,
   "id": "7a8b15eb",
   "metadata": {},
   "outputs": [
    {
     "name": "stdout",
     "output_type": "stream",
     "text": [
      "0.8143712574850299\n"
     ]
    }
   ],
   "source": [
    "print(metrics.accuracy_score(y_test,y_prd))"
   ]
  },
  {
   "cell_type": "markdown",
   "id": "8d824433",
   "metadata": {},
   "source": [
    "Make a dataframe for grapical Representation"
   ]
  },
  {
   "cell_type": "code",
   "execution_count": 170,
   "id": "46197ce5",
   "metadata": {},
   "outputs": [],
   "source": [
    "df4=pd.DataFrame({'Actual':y_test,'Predictions':y_prd})"
   ]
  },
  {
   "cell_type": "code",
   "execution_count": 175,
   "id": "7bc89ced",
   "metadata": {},
   "outputs": [
    {
     "data": {
      "image/png": "[encoded data removed]",
      "text/plain": [
       "<Figure size 576x432 with 1 Axes>"
      ]
     },
     "metadata": {
      "needs_background": "light"
     },
     "output_type": "display_data"
    }
   ],
   "source": [
    "plt.figure(figsize=(8,6))\n",
    "sns.countplot(data=df4,x='Actual',hue='Predictions',palette='Set2')\n",
    "plt.xlabel(\"Actual Values\")\n",
    "plt.ylabel(\"Count\")\n",
    "plt.title(\"Actual VS Prediction Values\")\n",
    "plt.legend(title=\"Prediction\",loc=\"upper right\")\n",
    "plt.show()"
   ]
  },
  {
   "cell_type": "code",
   "execution_count": null,
   "id": "eb0aabd7",
   "metadata": {},
   "outputs": [],
   "source": []
  }
 ],
 "metadata": {
  "kernelspec": {
   "display_name": "Python 3 (ipykernel)",
   "language": "python",
   "name": "python3"
  },
  "language_info": {
   "codemirror_mode": {
    "name": "ipython",
    "version": 3
   },
   "file_extension": ".py",
   "mimetype": "text/x-python",
   "name": "python",
   "nbconvert_exporter": "python",
   "pygments_lexer": "ipython3",
   "version": "3.9.12"
  }
 },
 "nbformat": 4,
 "nbformat_minor": 5
}
