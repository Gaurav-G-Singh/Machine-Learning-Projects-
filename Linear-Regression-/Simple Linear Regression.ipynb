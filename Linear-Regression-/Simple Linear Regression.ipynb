{
 "cells": [
  {
   "cell_type": "markdown",
   "id": "545bda29",
   "metadata": {},
   "source": [
    "# Simple Linear Regrassion"
   ]
  },
  {
   "cell_type": "markdown",
   "id": "39793482",
   "metadata": {},
   "source": [
    "#import the necessary libraries given below"
   ]
  },
  {
   "cell_type": "code",
   "execution_count": 108,
   "id": "d0556111",
   "metadata": {},
   "outputs": [],
   "source": [
    "import numpy as np\n",
    "import pandas as pd\n",
    "import seaborn as sns\n",
    "from sklearn.model_selection import train_test_split\n",
    "from sklearn.linear_model import LinearRegression\n",
    "from sklearn.metrics import accuracy_score"
   ]
  },
  {
   "cell_type": "markdown",
   "id": "d527b5c2",
   "metadata": {},
   "source": [
    "Load the Dataset using pd.read_csv"
   ]
  },
  {
   "cell_type": "code",
   "execution_count": 109,
   "id": "fdb22d4c",
   "metadata": {},
   "outputs": [],
   "source": [
    "df=pd.read_csv('Experience-Salary.csv')"
   ]
  },
  {
   "cell_type": "code",
   "execution_count": 110,
   "id": "73fa71ce",
   "metadata": {},
   "outputs": [
    {
     "data": {
      "text/html": [
       "<div>\n",
       "<style scoped>\n",
       "    .dataframe tbody tr th:only-of-type {\n",
       "        vertical-align: middle;\n",
       "    }\n",
       "\n",
       "    .dataframe tbody tr th {\n",
       "        vertical-align: top;\n",
       "    }\n",
       "\n",
       "    .dataframe thead th {\n",
       "        text-align: right;\n",
       "    }\n",
       "</style>\n",
       "<table border=\"1\" class=\"dataframe\">\n",
       "  <thead>\n",
       "    <tr style=\"text-align: right;\">\n",
       "      <th></th>\n",
       "      <th>exp(in months)</th>\n",
       "      <th>salary(in thousands)</th>\n",
       "    </tr>\n",
       "  </thead>\n",
       "  <tbody>\n",
       "    <tr>\n",
       "      <th>0</th>\n",
       "      <td>18.290293</td>\n",
       "      <td>16.521825</td>\n",
       "    </tr>\n",
       "    <tr>\n",
       "      <th>1</th>\n",
       "      <td>17.023407</td>\n",
       "      <td>11.666234</td>\n",
       "    </tr>\n",
       "    <tr>\n",
       "      <th>2</th>\n",
       "      <td>26.343613</td>\n",
       "      <td>23.167255</td>\n",
       "    </tr>\n",
       "    <tr>\n",
       "      <th>3</th>\n",
       "      <td>19.105834</td>\n",
       "      <td>20.877145</td>\n",
       "    </tr>\n",
       "    <tr>\n",
       "      <th>4</th>\n",
       "      <td>27.742516</td>\n",
       "      <td>23.166236</td>\n",
       "    </tr>\n",
       "  </tbody>\n",
       "</table>\n",
       "</div>"
      ],
      "text/plain": [
       "   exp(in months)  salary(in thousands)\n",
       "0       18.290293             16.521825\n",
       "1       17.023407             11.666234\n",
       "2       26.343613             23.167255\n",
       "3       19.105834             20.877145\n",
       "4       27.742516             23.166236"
      ]
     },
     "execution_count": 110,
     "metadata": {},
     "output_type": "execute_result"
    }
   ],
   "source": [
    "df.head()"
   ]
  },
  {
   "cell_type": "markdown",
   "id": "dfd35344",
   "metadata": {},
   "source": [
    "See is any null value is pesent in the dataset?"
   ]
  },
  {
   "cell_type": "code",
   "execution_count": 111,
   "id": "6128d641",
   "metadata": {},
   "outputs": [
    {
     "data": {
      "text/plain": [
       "exp(in months)          0\n",
       "salary(in thousands)    0\n",
       "dtype: int64"
      ]
     },
     "execution_count": 111,
     "metadata": {},
     "output_type": "execute_result"
    }
   ],
   "source": [
    "df.isnull().sum()"
   ]
  },
  {
   "cell_type": "code",
   "execution_count": 112,
   "id": "4f29d0c1",
   "metadata": {},
   "outputs": [
    {
     "name": "stdout",
     "output_type": "stream",
     "text": [
      "<class 'pandas.core.frame.DataFrame'>\n",
      "RangeIndex: 1000 entries, 0 to 999\n",
      "Data columns (total 2 columns):\n",
      " #   Column                Non-Null Count  Dtype  \n",
      "---  ------                --------------  -----  \n",
      " 0   exp(in months)        1000 non-null   float64\n",
      " 1   salary(in thousands)  1000 non-null   float64\n",
      "dtypes: float64(2)\n",
      "memory usage: 15.8 KB\n"
     ]
    }
   ],
   "source": [
    "df.info()"
   ]
  },
  {
   "cell_type": "markdown",
   "id": "2f1f5212",
   "metadata": {},
   "source": [
    "#Divide the dataset in x & y "
   ]
  },
  {
   "cell_type": "code",
   "execution_count": 113,
   "id": "c03fd902",
   "metadata": {},
   "outputs": [],
   "source": [
    "x=df.iloc[:,0:1]\n",
    "y=df.iloc[:,-1]"
   ]
  },
  {
   "cell_type": "markdown",
   "id": "71d83e69",
   "metadata": {},
   "source": [
    "#Train the X & Y by giving test size 0.2"
   ]
  },
  {
   "cell_type": "code",
   "execution_count": 114,
   "id": "d0c14337",
   "metadata": {},
   "outputs": [],
   "source": [
    "x_train,x_test,y_train,y_test=train_test_split(x,y,test_size=0.2,random_state=2)"
   ]
  },
  {
   "cell_type": "markdown",
   "id": "e52e2b29",
   "metadata": {},
   "source": [
    "#Loading the LinearRegression Modal"
   ]
  },
  {
   "cell_type": "code",
   "execution_count": 115,
   "id": "0b65ee1f",
   "metadata": {},
   "outputs": [],
   "source": [
    "lr=LinearRegression()"
   ]
  },
  {
   "cell_type": "markdown",
   "id": "41f4fee0",
   "metadata": {},
   "source": [
    "#Fitting the trained data in the LinearRegression"
   ]
  },
  {
   "cell_type": "code",
   "execution_count": 116,
   "id": "d0aa4978",
   "metadata": {},
   "outputs": [
    {
     "data": {
      "text/plain": [
       "LinearRegression()"
      ]
     },
     "execution_count": 116,
     "metadata": {},
     "output_type": "execute_result"
    }
   ],
   "source": [
    "lr.fit(x_train,y_train)"
   ]
  },
  {
   "cell_type": "markdown",
   "id": "fc3fee5b",
   "metadata": {},
   "source": [
    "#Predic the trained model by using X_test"
   ]
  },
  {
   "cell_type": "code",
   "execution_count": 117,
   "id": "64cb052a",
   "metadata": {},
   "outputs": [],
   "source": [
    "predic=lr.predict(x_test)"
   ]
  },
  {
   "cell_type": "code",
   "execution_count": 118,
   "id": "7a574dee",
   "metadata": {},
   "outputs": [],
   "source": [
    "cutoff = 0.7                              \n",
    "predic_classes = np.zeros_like(predic)    \n",
    "predic_classes[predic > cutoff] = 1 "
   ]
  },
  {
   "cell_type": "code",
   "execution_count": 119,
   "id": "e6cf248e",
   "metadata": {},
   "outputs": [],
   "source": [
    "y_test_classes = np.zeros_like(predic)\n",
    "y_test_classes[y_test > cutoff] = 1"
   ]
  },
  {
   "cell_type": "code",
   "execution_count": 122,
   "id": "0574e71b",
   "metadata": {},
   "outputs": [
    {
     "data": {
      "text/plain": [
       "100.0"
      ]
     },
     "execution_count": 122,
     "metadata": {},
     "output_type": "execute_result"
    }
   ],
   "source": [
    "accuracy_score(y_test_classes, predic_classes)*100"
   ]
  },
  {
   "cell_type": "markdown",
   "id": "a7da3026",
   "metadata": {},
   "source": [
    "The Accuracy score is 100%"
   ]
  },
  {
   "cell_type": "code",
   "execution_count": null,
   "id": "aa7b3a75",
   "metadata": {},
   "outputs": [],
   "source": []
  }
 ],
 "metadata": {
  "kernelspec": {
   "display_name": "Python 3 (ipykernel)",
   "language": "python",
   "name": "python3"
  },
  "language_info": {
   "codemirror_mode": {
    "name": "ipython",
    "version": 3
   },
   "file_extension": ".py",
   "mimetype": "text/x-python",
   "name": "python",
   "nbconvert_exporter": "python",
   "pygments_lexer": "ipython3",
   "version": "3.9.12"
  }
 },
 "nbformat": 4,
 "nbformat_minor": 5
}
